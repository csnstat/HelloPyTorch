{
 "cells": [
  {
   "cell_type": "markdown",
   "metadata": {},
   "source": [
    "# 01_Tensor"
   ]
  },
  {
   "cell_type": "code",
   "execution_count": 1,
   "metadata": {
    "ExecuteTime": {
     "end_time": "2017-08-07T06:25:48.811809Z",
     "start_time": "2017-08-07T06:25:48.323161Z"
    }
   },
   "outputs": [
    {
     "data": {
      "text/plain": [
       "<torch._C.Generator at 0x7f0ba19aa258>"
      ]
     },
     "execution_count": 1,
     "metadata": {},
     "output_type": "execute_result"
    }
   ],
   "source": [
    "import numpy as np\n",
    "import torch\n",
    "torch.manual_seed(1)"
   ]
  },
  {
   "cell_type": "markdown",
   "metadata": {},
   "source": [
    "## Tensor is a matrix!"
   ]
  },
  {
   "cell_type": "code",
   "execution_count": 2,
   "metadata": {
    "ExecuteTime": {
     "end_time": "2017-08-07T06:25:49.903875Z",
     "start_time": "2017-08-07T06:25:49.890816Z"
    },
    "scrolled": true
   },
   "outputs": [
    {
     "name": "stdout",
     "output_type": "stream",
     "text": [
      "\n",
      "-7.6847e+04  4.5574e-41\n",
      "-7.6847e+04  4.5574e-41\n",
      "[torch.FloatTensor of size 2x2]\n",
      "\n"
     ]
    },
    {
     "data": {
      "text/plain": [
       "('torch.FloatTensor', torch.Size([2, 2]), 4)"
      ]
     },
     "execution_count": 2,
     "metadata": {},
     "output_type": "execute_result"
    }
   ],
   "source": [
    "x = torch.Tensor(2,2) # 2D Tensor\n",
    "print(x)\n",
    "x.type(), x.size(), x.numel()"
   ]
  },
  {
   "cell_type": "code",
   "execution_count": 3,
   "metadata": {
    "ExecuteTime": {
     "end_time": "2017-08-07T06:25:50.515647Z",
     "start_time": "2017-08-07T06:25:50.505238Z"
    }
   },
   "outputs": [
    {
     "name": "stdout",
     "output_type": "stream",
     "text": [
      "\n",
      "(0 ,.,.) = \n",
      " -76847.4375      0.0000 -76847.4375\n",
      "      0.0000      0.0000      0.0000\n",
      "      0.0000      0.0000      0.0000\n",
      "\n",
      "(1 ,.,.) = \n",
      "      0.0000      0.0000      0.0000\n",
      "      0.0000      0.0000      0.0000\n",
      "      0.0000      0.0000      0.0000\n",
      "\n",
      "(2 ,.,.) = \n",
      "      0.0000      0.0000      0.0000\n",
      "      0.0000      0.0000      0.0000\n",
      "      0.0000      0.0000      0.0000\n",
      "[torch.FloatTensor of size 3x3x3]\n",
      "\n"
     ]
    },
    {
     "data": {
      "text/plain": [
       "('torch.FloatTensor', torch.Size([3, 3, 3]), 27)"
      ]
     },
     "execution_count": 3,
     "metadata": {},
     "output_type": "execute_result"
    }
   ],
   "source": [
    "y = torch.Tensor(3,3,3) # 3D Tensor\n",
    "print(y)\n",
    "y.type(), y.size(), y.numel()"
   ]
  },
  {
   "cell_type": "markdown",
   "metadata": {
    "ExecuteTime": {
     "end_time": "2017-08-03T12:34:51.726159Z",
     "start_time": "2017-08-03T12:34:51.718763Z"
    }
   },
   "source": [
    "## A few methods to create a Tensor"
   ]
  },
  {
   "cell_type": "code",
   "execution_count": 4,
   "metadata": {
    "ExecuteTime": {
     "end_time": "2017-08-07T06:25:51.175067Z",
     "start_time": "2017-08-07T06:25:51.165429Z"
    }
   },
   "outputs": [
    {
     "data": {
      "text/plain": [
       "(\n",
       "  1  1  1\n",
       "  1  1  1\n",
       "  1  1  1\n",
       " [torch.FloatTensor of size 3x3], \n",
       "  0  0  0\n",
       "  0  0  0\n",
       "  0  0  0\n",
       " [torch.FloatTensor of size 3x3], \n",
       "  1  0  0\n",
       "  0  1  0\n",
       "  0  0  1\n",
       " [torch.FloatTensor of size 3x3], \n",
       " -2.9718  1.7070 -0.4305\n",
       " -2.2820  0.5237  0.0004\n",
       " -1.2039  3.5283  0.4434\n",
       " [torch.FloatTensor of size 3x3])"
      ]
     },
     "execution_count": 4,
     "metadata": {},
     "output_type": "execute_result"
    }
   ],
   "source": [
    "torch.ones(3,3), torch.zeros(3,3), torch.eye(3,3), torch.randn(3,3)"
   ]
  },
  {
   "cell_type": "code",
   "execution_count": 5,
   "metadata": {
    "ExecuteTime": {
     "end_time": "2017-08-07T06:25:51.655449Z",
     "start_time": "2017-08-07T06:25:51.648961Z"
    }
   },
   "outputs": [
    {
     "data": {
      "text/plain": [
       "\n",
       " 0.0000\n",
       " 0.5000\n",
       " 1.0000\n",
       " 1.5000\n",
       " 2.0000\n",
       " 2.5000\n",
       "[torch.FloatTensor of size 6]"
      ]
     },
     "execution_count": 5,
     "metadata": {},
     "output_type": "execute_result"
    }
   ],
   "source": [
    "torch.arange(0, 3, step=0.5)"
   ]
  },
  {
   "cell_type": "code",
   "execution_count": 6,
   "metadata": {
    "ExecuteTime": {
     "end_time": "2017-08-07T06:25:52.090228Z",
     "start_time": "2017-08-07T06:25:52.082982Z"
    }
   },
   "outputs": [
    {
     "data": {
      "text/plain": [
       "\n",
       " 1  2\n",
       " 3  4\n",
       " 5  6\n",
       "[torch.FloatTensor of size 3x2]"
      ]
     },
     "execution_count": 6,
     "metadata": {},
     "output_type": "execute_result"
    }
   ],
   "source": [
    "torch.Tensor([[1,2],[3,4],[5,6]])"
   ]
  },
  {
   "cell_type": "code",
   "execution_count": 7,
   "metadata": {
    "ExecuteTime": {
     "end_time": "2017-08-07T06:25:52.530553Z",
     "start_time": "2017-08-07T06:25:52.522735Z"
    }
   },
   "outputs": [
    {
     "data": {
      "text/plain": [
       "\n",
       " 5  6\n",
       " 7  8\n",
       "[torch.LongTensor of size 2x2]"
      ]
     },
     "execution_count": 7,
     "metadata": {},
     "output_type": "execute_result"
    }
   ],
   "source": [
    "numpy_matrix = np.array([[5,6],[7,8]])\n",
    "torch.from_numpy(numpy_matrix)"
   ]
  },
  {
   "cell_type": "markdown",
   "metadata": {},
   "source": [
    "## Slicing, Concatenating, and Masking Tensor"
   ]
  },
  {
   "cell_type": "code",
   "execution_count": 8,
   "metadata": {
    "ExecuteTime": {
     "end_time": "2017-08-07T06:25:53.241768Z",
     "start_time": "2017-08-07T06:25:53.231854Z"
    }
   },
   "outputs": [
    {
     "data": {
      "text/plain": [
       "(\n",
       "  1  1  1\n",
       "  2  2  2\n",
       "  3  3  3\n",
       " [torch.FloatTensor of size 3x3], \n",
       "  1  1  1\n",
       "  2  2  2\n",
       " [torch.FloatTensor of size 2x3], \n",
       "  1\n",
       "  2\n",
       "  3\n",
       " [torch.FloatTensor of size 3])"
      ]
     },
     "execution_count": 8,
     "metadata": {},
     "output_type": "execute_result"
    }
   ],
   "source": [
    "x = torch.Tensor([[1,1,1],[2,2,2],[3,3,3]])\n",
    "x, x[0:2,:], x[0:3,0]"
   ]
  },
  {
   "cell_type": "code",
   "execution_count": 9,
   "metadata": {
    "ExecuteTime": {
     "end_time": "2017-08-07T06:25:53.625479Z",
     "start_time": "2017-08-07T06:25:53.617643Z"
    }
   },
   "outputs": [
    {
     "data": {
      "text/plain": [
       "\n",
       " 0  0  0\n",
       " 2  2  2\n",
       " 3  3  3\n",
       "[torch.FloatTensor of size 3x3]"
      ]
     },
     "execution_count": 9,
     "metadata": {},
     "output_type": "execute_result"
    }
   ],
   "source": [
    "x[0,:] = torch.Tensor([0,0,0])\n",
    "x"
   ]
  },
  {
   "cell_type": "code",
   "execution_count": 10,
   "metadata": {
    "ExecuteTime": {
     "end_time": "2017-08-07T06:25:53.908358Z",
     "start_time": "2017-08-07T06:25:53.901740Z"
    },
    "scrolled": true
   },
   "outputs": [
    {
     "name": "stdout",
     "output_type": "stream",
     "text": [
      "(\n",
      " 0  0  0\n",
      "[torch.FloatTensor of size 1x3]\n",
      ", \n",
      " 2  2  2\n",
      "[torch.FloatTensor of size 1x3]\n",
      ", \n",
      " 3  3  3\n",
      "[torch.FloatTensor of size 1x3]\n",
      ")\n"
     ]
    }
   ],
   "source": [
    "split = torch.split(x, split_size=1, dim=0)\n",
    "print(split)"
   ]
  },
  {
   "cell_type": "code",
   "execution_count": 11,
   "metadata": {
    "ExecuteTime": {
     "end_time": "2017-08-07T06:25:54.257571Z",
     "start_time": "2017-08-07T06:25:54.250946Z"
    }
   },
   "outputs": [
    {
     "data": {
      "text/plain": [
       "\n",
       " 0  0  0\n",
       " 2  2  2\n",
       " 3  3  3\n",
       "[torch.FloatTensor of size 3x3]"
      ]
     },
     "execution_count": 11,
     "metadata": {},
     "output_type": "execute_result"
    }
   ],
   "source": [
    "torch.cat(split, dim=0) # concatentae Tensor "
   ]
  },
  {
   "cell_type": "code",
   "execution_count": 12,
   "metadata": {
    "ExecuteTime": {
     "end_time": "2017-08-07T06:25:54.550388Z",
     "start_time": "2017-08-07T06:25:54.543416Z"
    },
    "scrolled": true
   },
   "outputs": [
    {
     "data": {
      "text/plain": [
       "\n",
       "(0 ,.,.) = \n",
       "  0  0  0\n",
       "  2  2  2\n",
       "  3  3  3\n",
       "[torch.FloatTensor of size 1x3x3]"
      ]
     },
     "execution_count": 12,
     "metadata": {},
     "output_type": "execute_result"
    }
   ],
   "source": [
    "torch.stack(split, dim=1) # concatenate Tensor with New dimenstion"
   ]
  },
  {
   "cell_type": "code",
   "execution_count": 13,
   "metadata": {
    "ExecuteTime": {
     "end_time": "2017-08-07T06:25:54.970773Z",
     "start_time": "2017-08-07T06:25:54.957336Z"
    }
   },
   "outputs": [
    {
     "data": {
      "text/plain": [
       "(\n",
       "  0.5848  0.8407  0.5510\n",
       "  0.3863  0.9124 -0.8410\n",
       " [torch.FloatTensor of size 2x3], \n",
       "  0  0  1\n",
       "  0  1  0\n",
       " [torch.ByteTensor of size 2x3], \n",
       "  0.5510\n",
       "  0.9124\n",
       " [torch.FloatTensor of size 2])"
      ]
     },
     "execution_count": 13,
     "metadata": {},
     "output_type": "execute_result"
    }
   ],
   "source": [
    "# torch.masked_select(input, mask)\n",
    "x = torch.randn(2,3)\n",
    "mask = torch.ByteTensor([[0,0,1],[0,1,0]])\n",
    "out = torch.masked_select(x,mask)\n",
    "\n",
    "x, mask, out"
   ]
  },
  {
   "cell_type": "markdown",
   "metadata": {
    "ExecuteTime": {
     "end_time": "2017-08-03T13:05:51.955648Z",
     "start_time": "2017-08-03T13:05:51.948906Z"
    }
   },
   "source": [
    "## Reshaping on Dimension of Tensor"
   ]
  },
  {
   "cell_type": "code",
   "execution_count": 14,
   "metadata": {
    "ExecuteTime": {
     "end_time": "2017-08-07T06:25:55.730362Z",
     "start_time": "2017-08-07T06:25:55.716130Z"
    }
   },
   "outputs": [
    {
     "name": "stdout",
     "output_type": "stream",
     "text": [
      "\n",
      "(0 ,.,.) = \n",
      "  0  0\n",
      "\n",
      "(1 ,.,.) = \n",
      "  0  0\n",
      "[torch.FloatTensor of size 2x1x2]\n",
      "\n"
     ]
    },
    {
     "data": {
      "text/plain": [
       "\n",
       " 0  0\n",
       " 0  0\n",
       "[torch.FloatTensor of size 2x2]"
      ]
     },
     "execution_count": 14,
     "metadata": {},
     "output_type": "execute_result"
    }
   ],
   "source": [
    "x  = torch.zeros(2, 1, 2)\n",
    "print(x)\n",
    "\n",
    "y = x.squeeze(1)  #remove dimension of 1\n",
    "\n",
    "x.size(), y.size()\n",
    "y"
   ]
  },
  {
   "cell_type": "code",
   "execution_count": 15,
   "metadata": {
    "ExecuteTime": {
     "end_time": "2017-08-07T06:25:56.118363Z",
     "start_time": "2017-08-07T06:25:56.111824Z"
    }
   },
   "outputs": [
    {
     "data": {
      "text/plain": [
       "\n",
       " 0  0\n",
       " 0  0\n",
       "[torch.FloatTensor of size 2x2]"
      ]
     },
     "execution_count": 15,
     "metadata": {},
     "output_type": "execute_result"
    }
   ],
   "source": [
    "x.view(2,2)"
   ]
  },
  {
   "cell_type": "code",
   "execution_count": 16,
   "metadata": {
    "ExecuteTime": {
     "end_time": "2017-08-07T06:25:56.526879Z",
     "start_time": "2017-08-07T06:25:56.519886Z"
    }
   },
   "outputs": [
    {
     "data": {
      "text/plain": [
       "\n",
       " 0\n",
       " 0\n",
       " 0\n",
       " 0\n",
       "[torch.FloatTensor of size 4]"
      ]
     },
     "execution_count": 16,
     "metadata": {},
     "output_type": "execute_result"
    }
   ],
   "source": [
    "x.view(-1)"
   ]
  },
  {
   "cell_type": "code",
   "execution_count": 17,
   "metadata": {
    "ExecuteTime": {
     "end_time": "2017-08-07T06:25:56.899686Z",
     "start_time": "2017-08-07T06:25:56.892614Z"
    }
   },
   "outputs": [
    {
     "data": {
      "text/plain": [
       "(\n",
       "  0  0  0  0\n",
       " [torch.FloatTensor of size 1x4], \n",
       "  0\n",
       "  0\n",
       "  0\n",
       "  0\n",
       " [torch.FloatTensor of size 4x1])"
      ]
     },
     "execution_count": 17,
     "metadata": {},
     "output_type": "execute_result"
    }
   ],
   "source": [
    "x.view(-1,4), x.view(4,-1)"
   ]
  },
  {
   "cell_type": "code",
   "execution_count": 18,
   "metadata": {
    "ExecuteTime": {
     "end_time": "2017-08-07T06:25:57.326572Z",
     "start_time": "2017-08-07T06:25:57.319798Z"
    }
   },
   "outputs": [
    {
     "data": {
      "text/plain": [
       "\n",
       " 0  0\n",
       " 0  0\n",
       "[torch.FloatTensor of size 2x2]"
      ]
     },
     "execution_count": 18,
     "metadata": {},
     "output_type": "execute_result"
    }
   ],
   "source": [
    "x.unsqueeze(1)\n",
    "x[:,0,:]"
   ]
  },
  {
   "cell_type": "markdown",
   "metadata": {},
   "source": [
    "## Tensor Operations"
   ]
  },
  {
   "cell_type": "markdown",
   "metadata": {},
   "source": [
    "### Arthmetic Operations"
   ]
  },
  {
   "cell_type": "code",
   "execution_count": 19,
   "metadata": {
    "ExecuteTime": {
     "end_time": "2017-08-07T06:25:58.504661Z",
     "start_time": "2017-08-07T06:25:58.491969Z"
    }
   },
   "outputs": [
    {
     "data": {
      "text/plain": [
       "(\n",
       "   2   4   6\n",
       "   8  10  12\n",
       " [torch.FloatTensor of size 2x3], \n",
       "   2   4   6\n",
       "   8  10  12\n",
       " [torch.FloatTensor of size 2x3], \n",
       "   2   4   6\n",
       "   8  10  12\n",
       " [torch.FloatTensor of size 2x3])"
      ]
     },
     "execution_count": 19,
     "metadata": {},
     "output_type": "execute_result"
    }
   ],
   "source": [
    "x1 = torch.FloatTensor([[1,2,3],[4,5,6]])\n",
    "x2 = torch.FloatTensor([[1,2,3],[4,5,6]])\n",
    "x1 + x2 , x1.add(x2), torch.add(x1,x2)"
   ]
  },
  {
   "cell_type": "code",
   "execution_count": 20,
   "metadata": {
    "ExecuteTime": {
     "end_time": "2017-08-07T06:25:58.849426Z",
     "start_time": "2017-08-07T06:25:58.843613Z"
    }
   },
   "outputs": [
    {
     "data": {
      "text/plain": [
       "\n",
       " 11  12  13\n",
       " 14  15  16\n",
       "[torch.FloatTensor of size 2x3]"
      ]
     },
     "execution_count": 20,
     "metadata": {},
     "output_type": "execute_result"
    }
   ],
   "source": [
    "x1 + 10 # broadingcasting"
   ]
  },
  {
   "cell_type": "code",
   "execution_count": 21,
   "metadata": {
    "ExecuteTime": {
     "end_time": "2017-08-07T06:25:59.151399Z",
     "start_time": "2017-08-07T06:25:59.144094Z"
    }
   },
   "outputs": [
    {
     "data": {
      "text/plain": [
       "(\n",
       "   1   4   9\n",
       "  16  25  36\n",
       " [torch.FloatTensor of size 2x3], \n",
       "   1   4   9\n",
       "  16  25  36\n",
       " [torch.FloatTensor of size 2x3], \n",
       "   1   4   9\n",
       "  16  25  36\n",
       " [torch.FloatTensor of size 2x3])"
      ]
     },
     "execution_count": 21,
     "metadata": {},
     "output_type": "execute_result"
    }
   ],
   "source": [
    "x1 * x2, x1.mul(x2), torch.mul(x1,x2)"
   ]
  },
  {
   "cell_type": "code",
   "execution_count": 22,
   "metadata": {
    "ExecuteTime": {
     "end_time": "2017-08-07T06:25:59.375870Z",
     "start_time": "2017-08-07T06:25:59.369448Z"
    }
   },
   "outputs": [
    {
     "data": {
      "text/plain": [
       "\n",
       " 10  20  30\n",
       " 40  50  60\n",
       "[torch.FloatTensor of size 2x3]"
      ]
     },
     "execution_count": 22,
     "metadata": {},
     "output_type": "execute_result"
    }
   ],
   "source": [
    "x1 * 10"
   ]
  },
  {
   "cell_type": "markdown",
   "metadata": {},
   "source": [
    "### Some useful math Operation"
   ]
  },
  {
   "cell_type": "code",
   "execution_count": 23,
   "metadata": {
    "ExecuteTime": {
     "end_time": "2017-08-07T06:25:59.910756Z",
     "start_time": "2017-08-07T06:25:59.902649Z"
    }
   },
   "outputs": [
    {
     "data": {
      "text/plain": [
       "(\n",
       "   1   4   9\n",
       "  16  25  36\n",
       " [torch.FloatTensor of size 2x3], \n",
       "   1   4   9\n",
       "  16  25  36\n",
       " [torch.FloatTensor of size 2x3], \n",
       "   1   4   9\n",
       "  16  25  36\n",
       " [torch.FloatTensor of size 2x3])"
      ]
     },
     "execution_count": 23,
     "metadata": {},
     "output_type": "execute_result"
    }
   ],
   "source": [
    "x1.pow(2), torch.pow(x1,2), x1**2"
   ]
  },
  {
   "cell_type": "code",
   "execution_count": 24,
   "metadata": {
    "ExecuteTime": {
     "end_time": "2017-08-07T06:26:00.178976Z",
     "start_time": "2017-08-07T06:26:00.172100Z"
    }
   },
   "outputs": [
    {
     "data": {
      "text/plain": [
       "(\n",
       "  0.0000  0.6931  1.0986\n",
       "  1.3863  1.6094  1.7918\n",
       " [torch.FloatTensor of size 2x3], \n",
       "  0.0000  0.6931  1.0986\n",
       "  1.3863  1.6094  1.7918\n",
       " [torch.FloatTensor of size 2x3])"
      ]
     },
     "execution_count": 24,
     "metadata": {},
     "output_type": "execute_result"
    }
   ],
   "source": [
    "x1.log(), torch.log(x1)"
   ]
  },
  {
   "cell_type": "code",
   "execution_count": 25,
   "metadata": {
    "ExecuteTime": {
     "end_time": "2017-08-07T06:26:00.390151Z",
     "start_time": "2017-08-07T06:26:00.384120Z"
    }
   },
   "outputs": [
    {
     "data": {
      "text/plain": [
       "\n",
       " 1  0  1\n",
       " 0  1  0\n",
       "[torch.FloatTensor of size 2x3]"
      ]
     },
     "execution_count": 25,
     "metadata": {},
     "output_type": "execute_result"
    }
   ],
   "source": [
    "x1 % 2"
   ]
  },
  {
   "cell_type": "code",
   "execution_count": 26,
   "metadata": {
    "ExecuteTime": {
     "end_time": "2017-08-07T06:26:00.586876Z",
     "start_time": "2017-08-07T06:26:00.578939Z"
    }
   },
   "outputs": [
    {
     "data": {
      "text/plain": [
       "(21.0, 6.0, 1.0, 3.5, 1.8708286933869707, \n",
       "  1  2  3\n",
       "  4  5  6\n",
       " [torch.FloatTensor of size 2x3], \n",
       "  1.0000  1.4142  1.7321\n",
       "  2.0000  2.2361  2.4495\n",
       " [torch.FloatTensor of size 2x3])"
      ]
     },
     "execution_count": 26,
     "metadata": {},
     "output_type": "execute_result"
    }
   ],
   "source": [
    "x1.sum(), x1.max(), x1.min(), x1.mean(), x1.std(), x1.abs(), x1.sqrt()"
   ]
  },
  {
   "cell_type": "code",
   "execution_count": 27,
   "metadata": {
    "ExecuteTime": {
     "end_time": "2017-08-07T06:26:00.789320Z",
     "start_time": "2017-08-07T06:26:00.781938Z"
    }
   },
   "outputs": [
    {
     "data": {
      "text/plain": [
       "(\n",
       "  4\n",
       "  5\n",
       "  6\n",
       " [torch.FloatTensor of size 3], \n",
       "  1\n",
       "  1\n",
       "  1\n",
       " [torch.LongTensor of size 3])"
      ]
     },
     "execution_count": 27,
     "metadata": {},
     "output_type": "execute_result"
    }
   ],
   "source": [
    "value, index = x1.max(0)\n",
    "value, index"
   ]
  },
  {
   "cell_type": "markdown",
   "metadata": {},
   "source": [
    "### Matrix operations"
   ]
  },
  {
   "cell_type": "code",
   "execution_count": 28,
   "metadata": {
    "ExecuteTime": {
     "end_time": "2017-08-07T06:26:01.201823Z",
     "start_time": "2017-08-07T06:26:01.184287Z"
    }
   },
   "outputs": [
    {
     "data": {
      "text/plain": [
       "(\n",
       "  0.4429  1.9290  4.7556 -0.6500 -6.5205\n",
       "  0.8783 -0.5785  1.4270  0.7992 -0.6589\n",
       "  3.0839 -0.8047  1.0791  1.7998  0.8487\n",
       " [torch.FloatTensor of size 3x5], \n",
       "  0.4429  1.9290  4.7556 -0.6500 -6.5205\n",
       "  0.8783 -0.5785  1.4270  0.7992 -0.6589\n",
       "  3.0839 -0.8047  1.0791  1.7998  0.8487\n",
       " [torch.FloatTensor of size 3x5])"
      ]
     },
     "execution_count": 28,
     "metadata": {},
     "output_type": "execute_result"
    }
   ],
   "source": [
    "# torch.mm(mat1, mat2) -> matrix multiplication\n",
    "\n",
    "x1 = torch.randn(3,4)\n",
    "x2 = torch.randn(4,5)\n",
    "\n",
    "torch.mm(x1,x2), x1.mm(x2)"
   ]
  },
  {
   "cell_type": "code",
   "execution_count": 29,
   "metadata": {
    "ExecuteTime": {
     "end_time": "2017-08-07T06:26:01.394828Z",
     "start_time": "2017-08-07T06:26:01.383884Z"
    }
   },
   "outputs": [
    {
     "data": {
      "text/plain": [
       "(\n",
       " -0.3090\n",
       "  2.6906\n",
       " -1.1885\n",
       " [torch.FloatTensor of size 3], \n",
       " -0.3090\n",
       "  2.6906\n",
       " -1.1885\n",
       " [torch.FloatTensor of size 3])"
      ]
     },
     "execution_count": 29,
     "metadata": {},
     "output_type": "execute_result"
    }
   ],
   "source": [
    "# torch.mv(mat1, vector) -> matrix vector multiplication\n",
    "\n",
    "x = torch.randn(3,4)\n",
    "v = torch.randn(4)\n",
    "\n",
    "torch.mv(x,v), x.mv(v)"
   ]
  },
  {
   "cell_type": "code",
   "execution_count": 30,
   "metadata": {
    "ExecuteTime": {
     "end_time": "2017-08-07T06:26:01.629750Z",
     "start_time": "2017-08-07T06:26:01.619859Z"
    },
    "scrolled": true
   },
   "outputs": [
    {
     "data": {
      "text/plain": [
       "torch.Size([10, 3, 5])"
      ]
     },
     "execution_count": 30,
     "metadata": {},
     "output_type": "execute_result"
    }
   ],
   "source": [
    "# torch.bmm(batch1, batch2) -> batch matrix multiplication\n",
    "\n",
    "x1 = torch.randn(10,3,4)\n",
    "x2 = torch.randn(10,4,5)\n",
    "\n",
    "torch.bmm(x1,x2).size()"
   ]
  },
  {
   "cell_type": "code",
   "execution_count": 31,
   "metadata": {
    "ExecuteTime": {
     "end_time": "2017-08-07T06:26:01.882026Z",
     "start_time": "2017-08-07T06:26:01.871531Z"
    }
   },
   "outputs": [
    {
     "data": {
      "text/plain": [
       "-0.3953970670700073"
      ]
     },
     "execution_count": 31,
     "metadata": {},
     "output_type": "execute_result"
    }
   ],
   "source": [
    "# torch.dot(tensor1,tensor2) -> dot product of two tensor\n",
    "x1 = torch.randn(2,2)\n",
    "x2 = torch.randn(2,2)\n",
    "\n",
    "torch.dot(x1.view(-1),x2.view(-1))"
   ]
  },
  {
   "cell_type": "code",
   "execution_count": 32,
   "metadata": {
    "ExecuteTime": {
     "end_time": "2017-08-07T06:26:02.082024Z",
     "start_time": "2017-08-07T06:26:02.073480Z"
    }
   },
   "outputs": [
    {
     "data": {
      "text/plain": [
       "(\n",
       " -0.6319  1.0510  0.0924  0.1584\n",
       "  1.6071 -1.2480 -1.1253  0.9556\n",
       " -0.3170  2.1666 -0.7013 -0.6323\n",
       " [torch.FloatTensor of size 3x4], \n",
       " -0.6319  1.6071 -0.3170\n",
       "  1.0510 -1.2480  2.1666\n",
       "  0.0924 -1.1253 -0.7013\n",
       "  0.1584  0.9556 -0.6323\n",
       " [torch.FloatTensor of size 4x3])"
      ]
     },
     "execution_count": 32,
     "metadata": {},
     "output_type": "execute_result"
    }
   ],
   "source": [
    "# torch.t(matrix) -> transposed matrix\n",
    "\n",
    "x1 = torch.randn(3,4)\n",
    "\n",
    "x1, x1.t()"
   ]
  },
  {
   "cell_type": "code",
   "execution_count": 33,
   "metadata": {
    "ExecuteTime": {
     "end_time": "2017-08-07T06:26:02.304739Z",
     "start_time": "2017-08-07T06:26:02.290349Z"
    }
   },
   "outputs": [
    {
     "data": {
      "text/plain": [
       "\n",
       "  8.7900   9.9300   9.8300   5.4500   3.1600\n",
       "  6.1100   6.9100   5.0400  -0.2700   7.9800\n",
       " -9.1500  -7.9300   4.8600   4.8500   3.0100\n",
       "  9.5700   1.6400   8.8300   0.7400   5.8000\n",
       " -3.4900   4.0200   9.8000  10.0000   4.2700\n",
       "  9.8400   0.1500  -8.9900  -6.0200  -5.3100\n",
       "[torch.FloatTensor of size 6x5]"
      ]
     },
     "execution_count": 33,
     "metadata": {},
     "output_type": "execute_result"
    }
   ],
   "source": [
    "a = torch.Tensor([[8.79,  6.11, -9.15,  9.57, -3.49,  9.84],\n",
    "                  [9.93,  6.91, -7.93,  1.64,  4.02,  0.15],\n",
    "                  [9.83,  5.04,  4.86,  8.83,  9.80, -8.99],\n",
    "                  [5.45, -0.27,  4.85,  0.74, 10.00, -6.02],\n",
    "                  [3.16,  7.98,  3.01,  5.80,  4.27, -5.31]]).t()\n",
    "a"
   ]
  },
  {
   "cell_type": "code",
   "execution_count": 34,
   "metadata": {
    "ExecuteTime": {
     "end_time": "2017-08-07T06:26:02.498952Z",
     "start_time": "2017-08-07T06:26:02.490591Z"
    }
   },
   "outputs": [
    {
     "data": {
      "text/plain": [
       "(\n",
       " -0.5911  0.2632  0.3554  0.3143  0.2299\n",
       " -0.3976  0.2438 -0.2224 -0.7535 -0.3636\n",
       " -0.0335 -0.6003 -0.4508  0.2334 -0.3055\n",
       " -0.4297  0.2362 -0.6859  0.3319  0.1649\n",
       " -0.4697 -0.3509  0.3874  0.1587 -0.5183\n",
       "  0.2934  0.5763 -0.0209  0.3791 -0.6526\n",
       " [torch.FloatTensor of size 6x5], \n",
       "  27.4687\n",
       "  22.6432\n",
       "   8.5584\n",
       "   5.9857\n",
       "   2.0149\n",
       " [torch.FloatTensor of size 5], \n",
       " -0.2514  0.8148 -0.2606  0.3967 -0.2180\n",
       " -0.3968  0.3587  0.7008 -0.4507  0.1402\n",
       " -0.6922 -0.2489 -0.2208  0.2513  0.5891\n",
       " -0.3662 -0.3686  0.3859  0.4342 -0.6265\n",
       " -0.4076 -0.0980 -0.4933 -0.6227 -0.4396\n",
       " [torch.FloatTensor of size 5x5])"
      ]
     },
     "execution_count": 34,
     "metadata": {},
     "output_type": "execute_result"
    }
   ],
   "source": [
    "u, s, v = torch.svd(a)\n",
    "u,s,v"
   ]
  },
  {
   "cell_type": "code",
   "execution_count": 35,
   "metadata": {
    "ExecuteTime": {
     "end_time": "2017-08-07T06:26:02.749028Z",
     "start_time": "2017-08-07T06:26:02.741997Z"
    },
    "scrolled": true
   },
   "outputs": [
    {
     "data": {
      "text/plain": [
       "1.091761987481732e-05"
      ]
     },
     "execution_count": 35,
     "metadata": {},
     "output_type": "execute_result"
    }
   ],
   "source": [
    "torch.dist(a, torch.mm(torch.mm(u, torch.diag(s)), v.t()))"
   ]
  },
  {
   "cell_type": "markdown",
   "metadata": {},
   "source": [
    "## Tensor Data Type"
   ]
  },
  {
   "cell_type": "code",
   "execution_count": 36,
   "metadata": {
    "ExecuteTime": {
     "end_time": "2017-08-07T06:26:03.307054Z",
     "start_time": "2017-08-07T06:26:03.299854Z"
    }
   },
   "outputs": [
    {
     "data": {
      "text/plain": [
       "\n",
       " 0.9156  0.0080\n",
       " 0.6416  0.9264\n",
       "[torch.FloatTensor of size 2x2]"
      ]
     },
     "execution_count": 36,
     "metadata": {},
     "output_type": "execute_result"
    }
   ],
   "source": [
    "x = torch.rand(2,2)\n",
    "x"
   ]
  },
  {
   "cell_type": "code",
   "execution_count": 37,
   "metadata": {
    "ExecuteTime": {
     "end_time": "2017-08-07T06:26:03.547200Z",
     "start_time": "2017-08-07T06:26:03.540148Z"
    }
   },
   "outputs": [
    {
     "data": {
      "text/plain": [
       "\n",
       " 1\n",
       " 1\n",
       "[torch.LongTensor of size 2]"
      ]
     },
     "execution_count": 37,
     "metadata": {},
     "output_type": "execute_result"
    }
   ],
   "source": [
    "x = torch.LongTensor([1,1])\n",
    "x"
   ]
  },
  {
   "cell_type": "code",
   "execution_count": 38,
   "metadata": {
    "ExecuteTime": {
     "end_time": "2017-08-07T06:26:03.842014Z",
     "start_time": "2017-08-07T06:26:03.835772Z"
    }
   },
   "outputs": [
    {
     "data": {
      "text/plain": [
       "\n",
       " 1\n",
       " 1\n",
       "[torch.FloatTensor of size 2]"
      ]
     },
     "execution_count": 38,
     "metadata": {},
     "output_type": "execute_result"
    }
   ],
   "source": [
    "x.float()"
   ]
  },
  {
   "cell_type": "code",
   "execution_count": 39,
   "metadata": {
    "ExecuteTime": {
     "end_time": "2017-08-07T06:26:04.126380Z",
     "start_time": "2017-08-07T06:26:04.120664Z"
    }
   },
   "outputs": [
    {
     "data": {
      "text/plain": [
       "\n",
       " 1\n",
       " 1\n",
       "[torch.DoubleTensor of size 2]"
      ]
     },
     "execution_count": 39,
     "metadata": {},
     "output_type": "execute_result"
    }
   ],
   "source": [
    "x.double()"
   ]
  },
  {
   "cell_type": "code",
   "execution_count": 40,
   "metadata": {
    "ExecuteTime": {
     "end_time": "2017-08-07T06:26:04.387937Z",
     "start_time": "2017-08-07T06:26:04.381967Z"
    }
   },
   "outputs": [
    {
     "data": {
      "text/plain": [
       "\n",
       " 1\n",
       " 1\n",
       "[torch.ByteTensor of size 2]"
      ]
     },
     "execution_count": 40,
     "metadata": {},
     "output_type": "execute_result"
    }
   ],
   "source": [
    "x.byte()"
   ]
  },
  {
   "cell_type": "code",
   "execution_count": 45,
   "metadata": {
    "ExecuteTime": {
     "end_time": "2017-08-07T06:26:37.395758Z",
     "start_time": "2017-08-07T06:26:37.388196Z"
    }
   },
   "outputs": [
    {
     "data": {
      "text/plain": [
       "\n",
       " 1\n",
       " 1\n",
       "[torch.cuda.LongTensor of size 2 (GPU 0)]"
      ]
     },
     "execution_count": 45,
     "metadata": {},
     "output_type": "execute_result"
    }
   ],
   "source": [
    "x = x.cuda() #This only work if you have CUDA supported CUDA Device\n",
    "x"
   ]
  },
  {
   "cell_type": "code",
   "execution_count": 46,
   "metadata": {
    "ExecuteTime": {
     "end_time": "2017-08-07T06:26:38.042443Z",
     "start_time": "2017-08-07T06:26:38.035569Z"
    }
   },
   "outputs": [
    {
     "data": {
      "text/plain": [
       "\n",
       " 1\n",
       " 1\n",
       "[torch.LongTensor of size 2]"
      ]
     },
     "execution_count": 46,
     "metadata": {},
     "output_type": "execute_result"
    }
   ],
   "source": [
    "x = x.cpu()\n",
    "x"
   ]
  },
  {
   "cell_type": "code",
   "execution_count": 47,
   "metadata": {
    "ExecuteTime": {
     "end_time": "2017-08-07T06:26:38.474864Z",
     "start_time": "2017-08-07T06:26:38.468758Z"
    }
   },
   "outputs": [
    {
     "data": {
      "text/plain": [
       "array([1, 1])"
      ]
     },
     "execution_count": 47,
     "metadata": {},
     "output_type": "execute_result"
    }
   ],
   "source": [
    "x.numpy()"
   ]
  },
  {
   "cell_type": "code",
   "execution_count": 48,
   "metadata": {
    "ExecuteTime": {
     "end_time": "2017-08-07T06:26:38.957279Z",
     "start_time": "2017-08-07T06:26:38.950221Z"
    }
   },
   "outputs": [
    {
     "data": {
      "text/plain": [
       "\n",
       " 2  3\n",
       " 1  2\n",
       "[torch.LongTensor of size 2x2]"
      ]
     },
     "execution_count": 48,
     "metadata": {},
     "output_type": "execute_result"
    }
   ],
   "source": [
    "torch.from_numpy(np.array([[2,3],[1,2]]))"
   ]
  }
 ],
 "metadata": {
  "kernelspec": {
   "display_name": "Python [conda env:lab_conda]",
   "language": "python",
   "name": "conda-env-lab_conda-py"
  },
  "language_info": {
   "codemirror_mode": {
    "name": "ipython",
    "version": 3
   },
   "file_extension": ".py",
   "mimetype": "text/x-python",
   "name": "python",
   "nbconvert_exporter": "python",
   "pygments_lexer": "ipython3",
   "version": "3.6.2"
  }
 },
 "nbformat": 4,
 "nbformat_minor": 2
}

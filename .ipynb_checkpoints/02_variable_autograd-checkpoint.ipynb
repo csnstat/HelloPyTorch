{
 "cells": [
  {
   "cell_type": "markdown",
   "metadata": {},
   "source": [
    "# 02_Variable_Autograd"
   ]
  },
  {
   "cell_type": "code",
   "execution_count": 1,
   "metadata": {
    "ExecuteTime": {
     "end_time": "2017-08-07T06:28:33.267403Z",
     "start_time": "2017-08-07T06:28:32.871407Z"
    },
    "collapsed": true
   },
   "outputs": [],
   "source": [
    "import torch\n",
    "from torch.autograd import Variable"
   ]
  },
  {
   "cell_type": "markdown",
   "metadata": {},
   "source": [
    "## Tensor vs Variable"
   ]
  },
  {
   "cell_type": "code",
   "execution_count": 2,
   "metadata": {
    "ExecuteTime": {
     "end_time": "2017-08-07T06:28:33.458163Z",
     "start_time": "2017-08-07T06:28:33.450131Z"
    }
   },
   "outputs": [
    {
     "name": "stdout",
     "output_type": "stream",
     "text": [
      "\n",
      " 1  2\n",
      " 3  4\n",
      "[torch.FloatTensor of size 2x2]\n",
      "\n",
      "Variable containing:\n",
      " 1  2\n",
      " 3  4\n",
      "[torch.FloatTensor of size 2x2]\n",
      "\n"
     ]
    }
   ],
   "source": [
    "tensor = torch.FloatTensor([[1,2],[3,4]])            # build a tensor\n",
    "x = Variable(tensor, requires_grad=True)      # build a variable, usually for compute gradients\n",
    "\n",
    "print(tensor)       # [torch.FloatTensor of size 2x2]\n",
    "print(x)     # [torch.FloatTensor of size 2x2]"
   ]
  },
  {
   "cell_type": "code",
   "execution_count": 3,
   "metadata": {
    "ExecuteTime": {
     "end_time": "2017-08-07T06:28:34.070240Z",
     "start_time": "2017-08-07T06:28:34.046797Z"
    }
   },
   "outputs": [
    {
     "data": {
      "text/plain": [
       "(Variable containing:\n",
       "  10\n",
       " [torch.FloatTensor of size 1], Variable containing:\n",
       "  1.0000  1.4142\n",
       "  1.7321  2.0000\n",
       " [torch.FloatTensor of size 2x2], Variable containing:\n",
       "   1   4\n",
       "   9  16\n",
       " [torch.FloatTensor of size 2x2])"
      ]
     },
     "execution_count": 3,
     "metadata": {},
     "output_type": "execute_result"
    }
   ],
   "source": [
    "x.sum(), x.sqrt(), x**2"
   ]
  },
  {
   "cell_type": "markdown",
   "metadata": {},
   "source": [
    "## Variables of a Variable"
   ]
  },
  {
   "cell_type": "code",
   "execution_count": 4,
   "metadata": {
    "ExecuteTime": {
     "end_time": "2017-08-07T06:28:34.967733Z",
     "start_time": "2017-08-07T06:28:34.961427Z"
    }
   },
   "outputs": [
    {
     "data": {
      "text/plain": [
       "\n",
       " 1  2\n",
       " 3  4\n",
       "[torch.FloatTensor of size 2x2]"
      ]
     },
     "execution_count": 4,
     "metadata": {},
     "output_type": "execute_result"
    }
   ],
   "source": [
    "x.data"
   ]
  },
  {
   "cell_type": "code",
   "execution_count": 5,
   "metadata": {
    "ExecuteTime": {
     "end_time": "2017-08-07T06:28:35.407127Z",
     "start_time": "2017-08-07T06:28:35.400391Z"
    },
    "scrolled": true
   },
   "outputs": [
    {
     "data": {
      "text/plain": [
       "(True, None, None, False)"
      ]
     },
     "execution_count": 5,
     "metadata": {},
     "output_type": "execute_result"
    }
   ],
   "source": [
    "x.requires_grad, x.grad, x.grad_fn, x.volatile"
   ]
  },
  {
   "cell_type": "markdown",
   "metadata": {},
   "source": [
    "## Auto Graph & Gradient"
   ]
  },
  {
   "cell_type": "code",
   "execution_count": 6,
   "metadata": {
    "ExecuteTime": {
     "end_time": "2017-08-07T06:28:36.056019Z",
     "start_time": "2017-08-07T06:28:36.044471Z"
    }
   },
   "outputs": [
    {
     "data": {
      "text/plain": [
       "(True, True, 9)"
      ]
     },
     "execution_count": 6,
     "metadata": {},
     "output_type": "execute_result"
    }
   ],
   "source": [
    "# create graph\n",
    "\n",
    "x = Variable(torch.FloatTensor([3]),requires_grad=True)\n",
    "y = 2*x +3\n",
    "\n",
    "x.requires_grad, y.requires_grad, 9"
   ]
  },
  {
   "cell_type": "code",
   "execution_count": 7,
   "metadata": {
    "ExecuteTime": {
     "end_time": "2017-08-07T06:28:36.478303Z",
     "start_time": "2017-08-07T06:28:36.471335Z"
    }
   },
   "outputs": [
    {
     "data": {
      "text/plain": [
       "<AccumulateGrad at 0x7f21b4091668>"
      ]
     },
     "execution_count": 7,
     "metadata": {},
     "output_type": "execute_result"
    }
   ],
   "source": [
    "y.grad_fn.next_functions[0][0].next_functions[0][0]"
   ]
  },
  {
   "cell_type": "code",
   "execution_count": 8,
   "metadata": {
    "ExecuteTime": {
     "end_time": "2017-08-07T06:28:36.920118Z",
     "start_time": "2017-08-07T06:28:36.886343Z"
    },
    "collapsed": true
   },
   "outputs": [],
   "source": [
    "y.backward()  # calculate dy / dx   == y.backward(torch.Tensor([1.0]))"
   ]
  },
  {
   "cell_type": "code",
   "execution_count": 9,
   "metadata": {
    "ExecuteTime": {
     "end_time": "2017-08-07T06:28:37.262640Z",
     "start_time": "2017-08-07T06:28:37.255347Z"
    }
   },
   "outputs": [
    {
     "data": {
      "text/plain": [
       "(Variable containing:\n",
       "  3\n",
       " [torch.FloatTensor of size 1], Variable containing:\n",
       "  2\n",
       " [torch.FloatTensor of size 1])"
      ]
     },
     "execution_count": 9,
     "metadata": {},
     "output_type": "execute_result"
    }
   ],
   "source": [
    "x, x.grad # dy / dx is stored and accmulated\""
   ]
  },
  {
   "cell_type": "code",
   "execution_count": 10,
   "metadata": {
    "ExecuteTime": {
     "end_time": "2017-08-07T06:28:37.804555Z",
     "start_time": "2017-08-07T06:28:37.797751Z"
    }
   },
   "outputs": [
    {
     "data": {
      "text/plain": [
       "\n",
       " 0\n",
       "[torch.FloatTensor of size 1]"
      ]
     },
     "execution_count": 10,
     "metadata": {},
     "output_type": "execute_result"
    }
   ],
   "source": [
    "x.grad.data.zero_() # empty gradient storage"
   ]
  },
  {
   "cell_type": "code",
   "execution_count": 11,
   "metadata": {
    "ExecuteTime": {
     "end_time": "2017-08-07T06:28:38.201888Z",
     "start_time": "2017-08-07T06:28:38.189395Z"
    },
    "collapsed": true
   },
   "outputs": [],
   "source": [
    "y.backward(torch.Tensor([3.0])) # calculate dy / dx"
   ]
  },
  {
   "cell_type": "code",
   "execution_count": 12,
   "metadata": {
    "ExecuteTime": {
     "end_time": "2017-08-07T06:28:38.597363Z",
     "start_time": "2017-08-07T06:28:38.590753Z"
    }
   },
   "outputs": [
    {
     "data": {
      "text/plain": [
       "Variable containing:\n",
       " 6\n",
       "[torch.FloatTensor of size 1]"
      ]
     },
     "execution_count": 12,
     "metadata": {},
     "output_type": "execute_result"
    }
   ],
   "source": [
    "x.grad"
   ]
  },
  {
   "cell_type": "markdown",
   "metadata": {},
   "source": [
    "### multivariate ouput and gradient"
   ]
  },
  {
   "cell_type": "code",
   "execution_count": 13,
   "metadata": {
    "ExecuteTime": {
     "end_time": "2017-08-07T06:28:39.151368Z",
     "start_time": "2017-08-07T06:28:39.145784Z"
    },
    "collapsed": true
   },
   "outputs": [],
   "source": [
    "x1 = Variable(torch.ones(2), requires_grad=True)\n",
    "x2 = Variable(torch.ones(2))"
   ]
  },
  {
   "cell_type": "code",
   "execution_count": 14,
   "metadata": {
    "ExecuteTime": {
     "end_time": "2017-08-07T06:28:39.611006Z",
     "start_time": "2017-08-07T06:28:39.603586Z"
    }
   },
   "outputs": [
    {
     "data": {
      "text/plain": [
       "Variable containing:\n",
       " 3\n",
       " 3\n",
       "[torch.FloatTensor of size 2]"
      ]
     },
     "execution_count": 14,
     "metadata": {},
     "output_type": "execute_result"
    }
   ],
   "source": [
    "y = x1*2 +  x2\n",
    "y"
   ]
  },
  {
   "cell_type": "code",
   "execution_count": 15,
   "metadata": {
    "ExecuteTime": {
     "end_time": "2017-08-07T06:28:40.480759Z",
     "start_time": "2017-08-07T06:28:40.476171Z"
    },
    "collapsed": true
   },
   "outputs": [],
   "source": [
    "y.backward(torch.Tensor([1,1]))"
   ]
  },
  {
   "cell_type": "code",
   "execution_count": 16,
   "metadata": {
    "ExecuteTime": {
     "end_time": "2017-08-07T06:28:40.831874Z",
     "start_time": "2017-08-07T06:28:40.824708Z"
    }
   },
   "outputs": [
    {
     "data": {
      "text/plain": [
       "(Variable containing:\n",
       "  2\n",
       "  2\n",
       " [torch.FloatTensor of size 2], None)"
      ]
     },
     "execution_count": 16,
     "metadata": {},
     "output_type": "execute_result"
    }
   ],
   "source": [
    "x1.grad, x2.grad"
   ]
  },
  {
   "cell_type": "code",
   "execution_count": 17,
   "metadata": {
    "ExecuteTime": {
     "end_time": "2017-08-07T06:28:41.237043Z",
     "start_time": "2017-08-07T06:28:41.230490Z"
    }
   },
   "outputs": [
    {
     "data": {
      "text/plain": [
       "array([ 2.,  2.], dtype=float32)"
      ]
     },
     "execution_count": 17,
     "metadata": {},
     "output_type": "execute_result"
    }
   ],
   "source": [
    "x1.grad.data.numpy()"
   ]
  }
 ],
 "metadata": {
  "kernelspec": {
   "display_name": "Python [conda env:lab_conda]",
   "language": "python",
   "name": "conda-env-lab_conda-py"
  },
  "language_info": {
   "codemirror_mode": {
    "name": "ipython",
    "version": 3
   },
   "file_extension": ".py",
   "mimetype": "text/x-python",
   "name": "python",
   "nbconvert_exporter": "python",
   "pygments_lexer": "ipython3",
   "version": "3.6.2"
  }
 },
 "nbformat": 4,
 "nbformat_minor": 2
}
